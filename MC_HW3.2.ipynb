{
 "cells": [
  {
   "cell_type": "code",
   "execution_count": 1,
   "id": "6a4f18c9",
   "metadata": {
    "scrolled": false
   },
   "outputs": [
    {
     "name": "stdout",
     "output_type": "stream",
     "text": [
      "2.832266209756856\n",
      "7091.937943903625\n"
     ]
    }
   ],
   "source": [
    "import numpy as np\n",
    "import numpy.random as npr\n",
    "import matplotlib.pyplot as plt\n",
    "up = np.array([0, 1])\n",
    "down = np.array([0, -1])\n",
    "left = np.array([-1, 0])\n",
    "right = np.array([1, 0])\n",
    "directions = [up, down, left, right]\n",
    "\n",
    "\n",
    "def init(L,n):\n",
    "    boards = np.zeros((n,L,L))\n",
    "    cur_loc = npr.randint(L, size = (n,2))\n",
    "    for i in np.arange(n):\n",
    "        j, k = cur_loc[i]\n",
    "        boards[i, j, k] = 1\n",
    "    return boards, cur_loc\n",
    "\n",
    "\n",
    "def move(boards, cur_loc, pin, Wn, n, L, respl=False):\n",
    "    avail_dir = np.zeros((n,4))\n",
    "    for ind_dir in range(4):\n",
    "        _dir = directions[ind_dir]\n",
    "        img = cur_loc + _dir\n",
    "        for n0 in range(n):\n",
    "            x, y = img[n0]\n",
    "            x %= L\n",
    "            y %= L\n",
    "            if boards[n0,x,y] == 0:\n",
    "                avail_dir[n0, ind_dir] = 1 \n",
    "\n",
    "    mn = np.sum(avail_dir, axis=1)\n",
    "    _z_rat = mn * pin / sum(pin)\n",
    "    # _z_rat = mn * Wn\n",
    "    z_rat = np.sum(_z_rat)\n",
    "    \n",
    "    wn = mn / z_rat\n",
    "    \n",
    "    pin = np.divide(pin, mn, out=np.zeros_like(pin), where=(mn!=0))\n",
    "    \n",
    "    numer = Wn * wn\n",
    "    Wn = numer / np.sum(Wn)\n",
    "    \n",
    "    for n0 in range(n):\n",
    "        if mn[n0] == 0:\n",
    "            continue\n",
    "        avails = avail_dir[n0]\n",
    "        prob = avails / mn[n0]\n",
    "        random_move = npr.choice([0,1,2,3], p=prob)\n",
    "        x,y = cur_loc[n0] + directions[random_move]\n",
    "        x %= L\n",
    "        y %= L\n",
    "        cur_loc[n0] = [x,y]\n",
    "        boards[n0,x,y] = 1\n",
    "        \n",
    "    if respl:\n",
    "        boards, Wn, cur_loc, mn, pin, wn = resample(boards, Wn, cur_loc, mn, pin, wn)\n",
    "\n",
    "    #print(boards, cur_loc, mn, pin)\n",
    "    return boards, cur_loc, mn, pin, z_rat, wn, Wn\n",
    "\n",
    "def get_Nk(methods, nomg): # methods = 1,2,3\n",
    "    if methods == 1:\n",
    "        Nk = npr.multinomial(N, nomg)\n",
    "\n",
    "    elif methods == 2:\n",
    "        expected = N * nomg\n",
    "        decimal, integer = np.modf(expected)\n",
    "        U = npr.uniform(size=N)\n",
    "        Nk = integer + (U < decimal)\n",
    "\n",
    "    elif methods == 3:\n",
    "        Un = npr.uniform(size=N)\n",
    "        j = np.arange(1,N+1)\n",
    "        Unj = (j-Un)/N\n",
    "        bounds = np.cumsum(nomg)\n",
    "        bounds = np.concatenate(([-np.inf], bounds, [np.inf]))\n",
    "        Nk = np.zeros(N)\n",
    "\n",
    "        def _count_range(jj):\n",
    "            return np.sum((bounds[jj-1] < Unj) & (Unj < bounds[jj]))\n",
    "        count_range = np.vectorize(_count_range)\n",
    "\n",
    "        Nk = count_range(j)\n",
    "    \n",
    "    Nk = Nk.astype(int)\n",
    "    return Nk\n",
    "\n",
    "def resample(boards, Wn, cur_loc, mn, pin, wn):\n",
    "    Nk = get_Nk(3, Wn)\n",
    "    boards = np.repeat(boards, Nk, axis=0)\n",
    "    Wn = np.repeat(Wn, Nk, axis=0)\n",
    "    cur_loc = np.repeat(cur_loc, Nk, axis=0)\n",
    "    mn = np.repeat(mn, Nk)\n",
    "    pin = np.repeat(pin, Nk)\n",
    "    wn = np.repeat(wn, Nk)\n",
    "    # print(boards, Wn, cur_loc, mn, pin, wn)\n",
    "    return boards, Wn, cur_loc, mn, pin, wn\n",
    "\n",
    "d = 5\n",
    "n = int(1e4)\n",
    "L = 5\n",
    "Wn = np.ones(n)/n\n",
    "boards, cur_loc = init(L, n)\n",
    "starts = np.copy(cur_loc[0])\n",
    "pin = np.ones(n)/L**2\n",
    "Z = L ** 2\n",
    "Zs = np.zeros(d)\n",
    "Zs[0] = Z\n",
    "for i in range(d):\n",
    "    boards, cur_loc, mn, pin, z_rat, wn, Wn = move(boards, cur_loc, pin, Wn, n, L, respl=False)\n",
    "    Z *= z_rat\n",
    "    Zs[i] = Z\n",
    "ends = cur_loc[0]\n",
    "print(z_rat)\n",
    "print(Z)"
   ]
  },
  {
   "cell_type": "code",
   "execution_count": 2,
   "id": "4506cb29",
   "metadata": {},
   "outputs": [
    {
     "data": {
      "text/plain": [
       "(10000, 5, 5)"
      ]
     },
     "execution_count": 2,
     "metadata": {},
     "output_type": "execute_result"
    }
   ],
   "source": [
    "boards.shape"
   ]
  },
  {
   "cell_type": "markdown",
   "id": "ab11993e",
   "metadata": {},
   "source": [
    "Check the visit times"
   ]
  },
  {
   "cell_type": "code",
   "execution_count": 3,
   "id": "254ecbc7",
   "metadata": {},
   "outputs": [
    {
     "data": {
      "text/plain": [
       "array([[2344., 2355., 2403., 2405., 2384.],\n",
       "       [2397., 2369., 2428., 2437., 2428.],\n",
       "       [2358., 2404., 2462., 2456., 2384.],\n",
       "       [2356., 2364., 2435., 2438., 2312.],\n",
       "       [2368., 2425., 2511., 2418., 2359.]])"
      ]
     },
     "execution_count": 3,
     "metadata": {},
     "output_type": "execute_result"
    }
   ],
   "source": [
    "np.sum(boards, axis=0)"
   ]
  },
  {
   "cell_type": "code",
   "execution_count": 4,
   "id": "f901a22e",
   "metadata": {},
   "outputs": [
    {
     "data": {
      "text/plain": [
       "array([1.05922247, 0.70614831, 1.05922247, ..., 1.05922247, 0.70614831,\n",
       "       0.70614831])"
      ]
     },
     "execution_count": 4,
     "metadata": {},
     "output_type": "execute_result"
    }
   ],
   "source": [
    "wn"
   ]
  },
  {
   "cell_type": "code",
   "execution_count": 5,
   "id": "36ed1405",
   "metadata": {},
   "outputs": [
    {
     "data": {
      "text/plain": [
       "array([ 100.       ,  300.       ,  900.       , 2503.98     ,\n",
       "       7091.9379439])"
      ]
     },
     "execution_count": 5,
     "metadata": {},
     "output_type": "execute_result"
    }
   ],
   "source": [
    "Zs"
   ]
  },
  {
   "cell_type": "code",
   "execution_count": 6,
   "id": "88513519",
   "metadata": {},
   "outputs": [],
   "source": [
    "Z_respl = np.array([ 100., 300., 900., 2507.04, 7027.8973964])"
   ]
  },
  {
   "cell_type": "code",
   "execution_count": 7,
   "id": "1947d11f",
   "metadata": {},
   "outputs": [],
   "source": [
    "Z_nonrespl = np.array([ 100., 300., 900., 2498.4, 7057.08])"
   ]
  },
  {
   "cell_type": "code",
   "execution_count": 14,
   "id": "535d6111",
   "metadata": {},
   "outputs": [
    {
     "data": {
      "image/png": "[encoded data removed]",
      "text/plain": [
       "<Figure size 432x288 with 1 Axes>"
      ]
     },
     "metadata": {
      "needs_background": "light"
     },
     "output_type": "display_data"
    }
   ],
   "source": [
    "plt.plot(Z_respl, label='systematic resampling')\n",
    "plt.plot(Z_nonrespl, label='no resampling')\n",
    "plt.legend()\n",
    "plt.show()"
   ]
  },
  {
   "cell_type": "code",
   "execution_count": 8,
   "id": "baaca036",
   "metadata": {},
   "outputs": [],
   "source": [
    "def plot_traj(path):\n",
    "    starts = path[0]\n",
    "    ends = path[-1]\n",
    "    path = path.T\n",
    "    x = path[0]\n",
    "    y = path[1]\n",
    "\n",
    "\n",
    "    plt.plot(x,y, 'bo-', linewidth = 1)\n",
    "    plt.plot(*starts, 'ro', ms = 10, label='Starts')\n",
    "    plt.plot(*ends, 'go', ms = 10, label='Ends')\n",
    "    plt.xlim([-0.2,4.2])\n",
    "    plt.ylim([-0.2,4.2])\n",
    "    plt.legend()\n",
    "    plt.show()\n",
    "    "
   ]
  },
  {
   "cell_type": "code",
   "execution_count": 9,
   "id": "09976b31",
   "metadata": {},
   "outputs": [
    {
     "data": {
      "image/png": "[encoded data removed]",
      "text/plain": [
       "<Figure size 432x288 with 1 Axes>"
      ]
     },
     "metadata": {
      "needs_background": "light"
     },
     "output_type": "display_data"
    }
   ],
   "source": [
    "path = np.array([\n",
    "    [0,1],[1,1],[2,1],[3,1],[3,2],[3,3],[2,3],[1,3],[1,2],[2,2]\n",
    "])\n",
    "plot_traj(path)"
   ]
  },
  {
   "cell_type": "code",
   "execution_count": 10,
   "id": "0b9ac05b",
   "metadata": {},
   "outputs": [
    {
     "data": {
      "image/png": "[encoded data removed]",
      "text/plain": [
       "<Figure size 432x288 with 1 Axes>"
      ]
     },
     "metadata": {
      "needs_background": "light"
     },
     "output_type": "display_data"
    }
   ],
   "source": [
    "plt.plot(Zs)\n",
    "plt.show()"
   ]
  },
  {
   "cell_type": "code",
   "execution_count": null,
   "id": "a0dce6b5",
   "metadata": {},
   "outputs": [],
   "source": []
  }
 ],
 "metadata": {
  "kernelspec": {
   "display_name": "Python 3 (ipykernel)",
   "language": "python",
   "name": "python3"
  },
  "language_info": {
   "codemirror_mode": {
    "name": "ipython",
    "version": 3
   },
   "file_extension": ".py",
   "mimetype": "text/x-python",
   "name": "python",
   "nbconvert_exporter": "python",
   "pygments_lexer": "ipython3",
   "version": "3.9.12"
  }
 },
 "nbformat": 4,
 "nbformat_minor": 5
}
